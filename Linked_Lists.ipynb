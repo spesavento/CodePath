{
 "cells": [
  {
   "cell_type": "markdown",
   "id": "6320717b",
   "metadata": {},
   "source": [
    "**Singly Linked List:**\n",
    "<img src=\"https://media.geeksforgeeks.org/wp-content/cdn-uploads/gq/2013/03/Linkedlist.png\" width=\"400\">\n",
    "\n",
    "**Doubly Linked List:**\n",
    "<img src=\"https://media.geeksforgeeks.org/wp-content/cdn-uploads/gq/2014/03/DLL1.png\" width=\"600\">\n",
    "\n",
    "**Circular Linked List:**\n",
    "<img src=\"https://media.geeksforgeeks.org/wp-content/uploads/CircularLinkeList.png\" width=\"400\">\n",
    "\n",
    "### Initialization:"
   ]
  },
  {
   "cell_type": "code",
   "execution_count": 11,
   "id": "2ed7d34e",
   "metadata": {},
   "outputs": [],
   "source": [
    "class ListNode: \n",
    "    def __init__(self, val):\n",
    "        self.val = val\n",
    "        self.next = None\n",
    "\n",
    "#e.g. 1 -> 2\n",
    "head = ListNode(1)\n",
    "head.next = ListNode(2)"
   ]
  },
  {
   "cell_type": "markdown",
   "id": "66d9c553",
   "metadata": {},
   "source": [
    "**Big O** <br>\n",
    "Finding an element:   O(n) <br>\n",
    "Inserting an element: O(1) <br>\n",
    "Deleting an element:  O(1)  (n to find first)\n",
    "\n",
    "### 1. Dummy Head\n",
    "This technique only involves creating one extra pointer, the dummy head, that will point to your final answer or list that you will return. This helps in handling edge cases."
   ]
  },
  {
   "cell_type": "code",
   "execution_count": 12,
   "id": "2402115f",
   "metadata": {},
   "outputs": [],
   "source": [
    "class Node(object):\n",
    "    def __init__(self, v):\n",
    "        self.val = v\n",
    "        self.next = None\n",
    "    \n",
    "def delete_node(head, val):\n",
    "    dummy = Node(\"dummy\") # 1\n",
    "    dummy.next = head\n",
    "    l = dummy\n",
    "    r = head\n",
    "    while r:\n",
    "        # d -> 4 -> 5 -> 8 -> None\n",
    "        # l    r \n",
    "        if r.val == val:\n",
    "            l.next = r.next # 2\n",
    "            return dummy.next   # 3\n",
    "        #move up one \n",
    "        l = r\n",
    "        r = r.next\n",
    "        \n",
    "    #if no matching element is found, return original list\n",
    "    return dummy.next # 4 "
   ]
  },
  {
   "cell_type": "markdown",
   "id": "9a044819",
   "metadata": {},
   "source": [
    "### 2. Multiple Pass Technique\n",
    "Most list operations are O(n), so you can pass through the list a constant number of times and keep this time complexity. One example that we see a lot is the need to calculate the length of the list. \n",
    "<br>\n",
    "\n",
    "Example: [Intersection of Two Linked Lists](https://leetcode.com/problems/intersection-of-two-linked-lists/).<br>\n",
    "Given the heads of two singly linked-lists headA and headB, return the node at which the two lists intersect. If the two linked lists have no intersection at all, return null. For example, the following two linked lists begin to intersect at node c1:\n",
    "```\n",
    "A:          a1 → a2\n",
    "                   ↘\n",
    "                     c1 → c2 → c3\n",
    "                   ↗            \n",
    "B:     b1 → b2 → b3\n",
    "```\n",
    "<br>\n",
    "Notes: <br>\n",
    "- If the two linked lists have no intersection at all, return null.<br>\n",
    "- The linked lists must retain their original structure after the function returns.<br>\n",
    "- You may assume there are no cycles anywhere in the entire linked structure.<br>\n",
    "- Your code should preferably run in O(n) time and use only O(1) memory.<br>"
   ]
  },
  {
   "cell_type": "code",
   "execution_count": 13,
   "id": "4767b6f7",
   "metadata": {},
   "outputs": [
    {
     "data": {
      "text/plain": [
       "(a1 --> a2 --> c1 --> None, b2 --> b3 --> c1 --> None)"
      ]
     },
     "execution_count": 13,
     "metadata": {},
     "output_type": "execute_result"
    }
   ],
   "source": [
    "### Partial Solution -- showing concept of taking list length\n",
    "class Node(object):\n",
    "    def __init__(self, v):\n",
    "        self.val = v\n",
    "        self.next = None\n",
    "\n",
    "    def __repr__(self):\n",
    "        return f\"{self.val} --> {self.next}\"\n",
    "\n",
    "    def insert(self, v):\n",
    "        n = Node(v)\n",
    "        n.next = self\n",
    "        return n\n",
    "    \n",
    "def getLength(llist):\n",
    "    length = 0\n",
    "    while llist:\n",
    "        length += 1\n",
    "        llist = llist.next\n",
    "    return length\n",
    "\n",
    "def makeSameLength(llist1, llist2):\n",
    "    len1 = getLength(llist1)\n",
    "    len2 = getLength(llist2)\n",
    "    if len1 > len2:\n",
    "        long_ll, short_ll = llist1, llist2\n",
    "        long_len, short_len = len1, len2\n",
    "    else:\n",
    "        long_ll, short_ll = llist2, llist1\n",
    "        long_len, short_len = len2, len1\n",
    "    #e.g. in above example, lengths 5, 6. \n",
    "    while long_len > short_len:\n",
    "        long_len -= 1\n",
    "        long_ll = long_ll.next\n",
    "    return short_ll, long_ll\n",
    "\n",
    "common = Node('c1')\n",
    "short = common.insert('a2').insert('a1')\n",
    "long = common.insert('b3').insert('b2').insert('b1')\n",
    "makeSameLength(short, long)"
   ]
  },
  {
   "cell_type": "markdown",
   "id": "fb717dd8",
   "metadata": {},
   "source": [
    "### Aside: Recursion vs. Iteration\n",
    "Recursive algorithms are often very easy to write with linked lists because the list is structured recursively."
   ]
  },
  {
   "cell_type": "code",
   "execution_count": 14,
   "id": "2a18e2bb",
   "metadata": {},
   "outputs": [
    {
     "data": {
      "text/plain": [
       "(4, 4)"
      ]
     },
     "execution_count": 14,
     "metadata": {},
     "output_type": "execute_result"
    }
   ],
   "source": [
    "def get_len_recur(llist):\n",
    "    if not llist: \n",
    "        return 0 # A None path has 0 length\n",
    "    return get_len_recur(llist.next) + 1 # The length at this node is 1 + length of rest\n",
    "\n",
    "def get_len_iter(llist):\n",
    "    length = 0\n",
    "    while llist:\n",
    "        length += 1\n",
    "        llist = llist.next\n",
    "    return length\n",
    "\n",
    "get_len_recur(long), get_len_iter(long)"
   ]
  },
  {
   "cell_type": "markdown",
   "id": "5c90ba53",
   "metadata": {},
   "source": [
    "### 3. Linked List Two Pointer\n",
    "\n",
    "[Detect Cycle in Linked List](https://leetcode.com/problems/linked-list-cycle/).<br>\n",
    "\n",
    "Answer 1: Using extra storage time = O(N), space = O(N) <br>\n",
    "A cycle can be defined as a list where we point to the same node twice. Store nodes in a set for constant time insertion and lookup."
   ]
  },
  {
   "cell_type": "code",
   "execution_count": 4,
   "id": "84fa9ecf",
   "metadata": {},
   "outputs": [
    {
     "name": "stdout",
     "output_type": "stream",
     "text": [
      "List 5 --> 7 --> None\n",
      "False\n",
      "List 5 --> 7 --> 5\n",
      "True\n"
     ]
    }
   ],
   "source": [
    "class Node(object):\n",
    "    def __init__(self, v):\n",
    "        self.val = v\n",
    "        self.next = None\n",
    "        \n",
    "    def insert(self, n):\n",
    "        n.next = self\n",
    "        return n\n",
    "\n",
    "#pass in a pointer to head of a linked list then traverse it\n",
    "def has_cycle_with_set(ll):\n",
    "    nodes_seen = set()\n",
    "    while ll:\n",
    "        if ll in nodes_seen:\n",
    "            return True\n",
    "        nodes_seen.add(ll)\n",
    "        ll = ll.next\n",
    "    return False\n",
    "\n",
    "my_list = Node(7).insert(Node(5))\n",
    "print(f\"List {my_list.val} --> {my_list.next.val} --> {my_list.next.next}\")\n",
    "print(has_cycle_with_set(my_list))\n",
    "my_list.next.next = my_list\n",
    "print(f\"List {my_list.val} --> {my_list.next.val} --> {my_list.next.next.val}\")\n",
    "print(has_cycle_with_set(my_list))"
   ]
  },
  {
   "cell_type": "markdown",
   "id": "fdf20d82",
   "metadata": {},
   "source": [
    "Answer 2: Two Pointers, time = O(N) space = O(1)\n",
    "We can use the two pointers to iterate through the list at two different speeds. The motivation being that if there is a cycle, then the list can be thought of as a circle (at least the part of the list past the self-intersection). Similar to a race track, the faster pointer must eventually cross paths with the slower pointer, whereas if there is not a cycle they will never cross paths."
   ]
  },
  {
   "cell_type": "code",
   "execution_count": 5,
   "id": "e7bc1620",
   "metadata": {},
   "outputs": [
    {
     "name": "stdout",
     "output_type": "stream",
     "text": [
      "List 5 --> 7 --> None\n",
      "False\n",
      "List 5 --> 7 --> 5\n",
      "True\n"
     ]
    }
   ],
   "source": [
    "def has_cycle(ll):\n",
    "    if not ll or not ll.next:\n",
    "        return False\n",
    "    fast_p = ll.next\n",
    "    slow_p = ll\n",
    "    #we will move the fast pointer x2, so if the next element is None, we can't call fast_p.next.next\n",
    "    while fast_p and fast_p.next:\n",
    "        if fast_p == slow_p or fast_p.next == slow_p:\n",
    "            return True\n",
    "        fast_p = fast_p.next.next\n",
    "        slow_p = slow_p.next\n",
    "    return False\n",
    "\n",
    "my_list = Node(7).insert(Node(5))\n",
    "print(f\"List {my_list.val} --> {my_list.next.val} --> {my_list.next.next}\")\n",
    "print(has_cycle(my_list))\n",
    "my_list.next.next = my_list\n",
    "print(f\"List {my_list.val} --> {my_list.next.val} --> {my_list.next.next.val}\")\n",
    "print(has_cycle(my_list)) "
   ]
  },
  {
   "cell_type": "code",
   "execution_count": null,
   "id": "016d332f",
   "metadata": {},
   "outputs": [],
   "source": []
  }
 ],
 "metadata": {
  "kernelspec": {
   "display_name": "Python 3 (ipykernel)",
   "language": "python",
   "name": "python3"
  },
  "language_info": {
   "codemirror_mode": {
    "name": "ipython",
    "version": 3
   },
   "file_extension": ".py",
   "mimetype": "text/x-python",
   "name": "python",
   "nbconvert_exporter": "python",
   "pygments_lexer": "ipython3",
   "version": "3.9.7"
  }
 },
 "nbformat": 4,
 "nbformat_minor": 5
}
